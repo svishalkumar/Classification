{
 "cells": [
  {
   "cell_type": "markdown",
   "id": "52474041",
   "metadata": {},
   "source": [
    "Here we have two  different dataset so first we have to append both together then we will be see next step"
   ]
  },
  {
   "cell_type": "code",
   "execution_count": 1,
   "id": "d7fce3b4",
   "metadata": {},
   "outputs": [],
   "source": [
    "# importing Libraries\n",
    "import pandas as pd\n",
    "import numpy as np\n",
    "import seaborn as sns\n",
    "import matplotlib.pyplot as plt\n",
    "from sklearn.model_selection import train_test_split\n",
    "from sklearn.ensemble import RandomForestRegressor\n",
    "from sklearn.metrics import confusion_matrix,r2_score,accuracy_score,mean_squared_error"
   ]
  },
  {
   "cell_type": "code",
   "execution_count": 2,
   "id": "4a91781c",
   "metadata": {},
   "outputs": [],
   "source": [
    "train_dt = pd.read_csv(r\"C:\\Users\\dell\\Downloads\\train.csv\",)    ##   1st dataset"
   ]
  },
  {
   "cell_type": "code",
   "execution_count": 3,
   "id": "87203200",
   "metadata": {},
   "outputs": [
    {
     "data": {
      "text/html": [
       "<div>\n",
       "<style scoped>\n",
       "    .dataframe tbody tr th:only-of-type {\n",
       "        vertical-align: middle;\n",
       "    }\n",
       "\n",
       "    .dataframe tbody tr th {\n",
       "        vertical-align: top;\n",
       "    }\n",
       "\n",
       "    .dataframe thead th {\n",
       "        text-align: right;\n",
       "    }\n",
       "</style>\n",
       "<table border=\"1\" class=\"dataframe\">\n",
       "  <thead>\n",
       "    <tr style=\"text-align: right;\">\n",
       "      <th></th>\n",
       "      <th>Id</th>\n",
       "      <th>MSSubClass</th>\n",
       "      <th>MSZoning</th>\n",
       "      <th>LotFrontage</th>\n",
       "      <th>LotArea</th>\n",
       "      <th>Street</th>\n",
       "      <th>Alley</th>\n",
       "      <th>LotShape</th>\n",
       "      <th>LandContour</th>\n",
       "      <th>Utilities</th>\n",
       "      <th>...</th>\n",
       "      <th>PoolArea</th>\n",
       "      <th>PoolQC</th>\n",
       "      <th>Fence</th>\n",
       "      <th>MiscFeature</th>\n",
       "      <th>MiscVal</th>\n",
       "      <th>MoSold</th>\n",
       "      <th>YrSold</th>\n",
       "      <th>SaleType</th>\n",
       "      <th>SaleCondition</th>\n",
       "      <th>SalePrice</th>\n",
       "    </tr>\n",
       "  </thead>\n",
       "  <tbody>\n",
       "    <tr>\n",
       "      <th>0</th>\n",
       "      <td>1</td>\n",
       "      <td>60</td>\n",
       "      <td>RL</td>\n",
       "      <td>65.0</td>\n",
       "      <td>8450</td>\n",
       "      <td>Pave</td>\n",
       "      <td>NaN</td>\n",
       "      <td>Reg</td>\n",
       "      <td>Lvl</td>\n",
       "      <td>AllPub</td>\n",
       "      <td>...</td>\n",
       "      <td>0</td>\n",
       "      <td>NaN</td>\n",
       "      <td>NaN</td>\n",
       "      <td>NaN</td>\n",
       "      <td>0</td>\n",
       "      <td>2</td>\n",
       "      <td>2008</td>\n",
       "      <td>WD</td>\n",
       "      <td>Normal</td>\n",
       "      <td>208500</td>\n",
       "    </tr>\n",
       "    <tr>\n",
       "      <th>1</th>\n",
       "      <td>2</td>\n",
       "      <td>20</td>\n",
       "      <td>RL</td>\n",
       "      <td>80.0</td>\n",
       "      <td>9600</td>\n",
       "      <td>Pave</td>\n",
       "      <td>NaN</td>\n",
       "      <td>Reg</td>\n",
       "      <td>Lvl</td>\n",
       "      <td>AllPub</td>\n",
       "      <td>...</td>\n",
       "      <td>0</td>\n",
       "      <td>NaN</td>\n",
       "      <td>NaN</td>\n",
       "      <td>NaN</td>\n",
       "      <td>0</td>\n",
       "      <td>5</td>\n",
       "      <td>2007</td>\n",
       "      <td>WD</td>\n",
       "      <td>Normal</td>\n",
       "      <td>181500</td>\n",
       "    </tr>\n",
       "  </tbody>\n",
       "</table>\n",
       "<p>2 rows × 81 columns</p>\n",
       "</div>"
      ],
      "text/plain": [
       "   Id  MSSubClass MSZoning  LotFrontage  LotArea Street Alley LotShape  \\\n",
       "0   1          60       RL         65.0     8450   Pave   NaN      Reg   \n",
       "1   2          20       RL         80.0     9600   Pave   NaN      Reg   \n",
       "\n",
       "  LandContour Utilities  ... PoolArea PoolQC Fence MiscFeature MiscVal MoSold  \\\n",
       "0         Lvl    AllPub  ...        0    NaN   NaN         NaN       0      2   \n",
       "1         Lvl    AllPub  ...        0    NaN   NaN         NaN       0      5   \n",
       "\n",
       "  YrSold  SaleType  SaleCondition  SalePrice  \n",
       "0   2008        WD         Normal     208500  \n",
       "1   2007        WD         Normal     181500  \n",
       "\n",
       "[2 rows x 81 columns]"
      ]
     },
     "execution_count": 3,
     "metadata": {},
     "output_type": "execute_result"
    }
   ],
   "source": [
    "(train_dt.head(2))"
   ]
  },
  {
   "cell_type": "code",
   "execution_count": 4,
   "id": "379ce8f0",
   "metadata": {},
   "outputs": [
    {
     "name": "stdout",
     "output_type": "stream",
     "text": [
      "(1460, 81)\n"
     ]
    }
   ],
   "source": [
    "print(train_dt.shape)"
   ]
  },
  {
   "cell_type": "code",
   "execution_count": 5,
   "id": "3564127b",
   "metadata": {},
   "outputs": [],
   "source": [
    "test_dt = pd.read_csv(r\"C:\\Users\\dell\\Downloads\\test (1).csv\")   ##  2nd dataset"
   ]
  },
  {
   "cell_type": "code",
   "execution_count": 6,
   "id": "0b914cc7",
   "metadata": {},
   "outputs": [
    {
     "data": {
      "text/html": [
       "<div>\n",
       "<style scoped>\n",
       "    .dataframe tbody tr th:only-of-type {\n",
       "        vertical-align: middle;\n",
       "    }\n",
       "\n",
       "    .dataframe tbody tr th {\n",
       "        vertical-align: top;\n",
       "    }\n",
       "\n",
       "    .dataframe thead th {\n",
       "        text-align: right;\n",
       "    }\n",
       "</style>\n",
       "<table border=\"1\" class=\"dataframe\">\n",
       "  <thead>\n",
       "    <tr style=\"text-align: right;\">\n",
       "      <th></th>\n",
       "      <th>Id</th>\n",
       "      <th>MSSubClass</th>\n",
       "      <th>MSZoning</th>\n",
       "      <th>LotFrontage</th>\n",
       "      <th>LotArea</th>\n",
       "      <th>Street</th>\n",
       "      <th>Alley</th>\n",
       "      <th>LotShape</th>\n",
       "      <th>LandContour</th>\n",
       "      <th>Utilities</th>\n",
       "      <th>...</th>\n",
       "      <th>ScreenPorch</th>\n",
       "      <th>PoolArea</th>\n",
       "      <th>PoolQC</th>\n",
       "      <th>Fence</th>\n",
       "      <th>MiscFeature</th>\n",
       "      <th>MiscVal</th>\n",
       "      <th>MoSold</th>\n",
       "      <th>YrSold</th>\n",
       "      <th>SaleType</th>\n",
       "      <th>SaleCondition</th>\n",
       "    </tr>\n",
       "  </thead>\n",
       "  <tbody>\n",
       "    <tr>\n",
       "      <th>0</th>\n",
       "      <td>1461</td>\n",
       "      <td>20</td>\n",
       "      <td>RH</td>\n",
       "      <td>80.0</td>\n",
       "      <td>11622</td>\n",
       "      <td>Pave</td>\n",
       "      <td>NaN</td>\n",
       "      <td>Reg</td>\n",
       "      <td>Lvl</td>\n",
       "      <td>AllPub</td>\n",
       "      <td>...</td>\n",
       "      <td>120</td>\n",
       "      <td>0</td>\n",
       "      <td>NaN</td>\n",
       "      <td>MnPrv</td>\n",
       "      <td>NaN</td>\n",
       "      <td>0</td>\n",
       "      <td>6</td>\n",
       "      <td>2010</td>\n",
       "      <td>WD</td>\n",
       "      <td>Normal</td>\n",
       "    </tr>\n",
       "    <tr>\n",
       "      <th>1</th>\n",
       "      <td>1462</td>\n",
       "      <td>20</td>\n",
       "      <td>RL</td>\n",
       "      <td>81.0</td>\n",
       "      <td>14267</td>\n",
       "      <td>Pave</td>\n",
       "      <td>NaN</td>\n",
       "      <td>IR1</td>\n",
       "      <td>Lvl</td>\n",
       "      <td>AllPub</td>\n",
       "      <td>...</td>\n",
       "      <td>0</td>\n",
       "      <td>0</td>\n",
       "      <td>NaN</td>\n",
       "      <td>NaN</td>\n",
       "      <td>Gar2</td>\n",
       "      <td>12500</td>\n",
       "      <td>6</td>\n",
       "      <td>2010</td>\n",
       "      <td>WD</td>\n",
       "      <td>Normal</td>\n",
       "    </tr>\n",
       "  </tbody>\n",
       "</table>\n",
       "<p>2 rows × 80 columns</p>\n",
       "</div>"
      ],
      "text/plain": [
       "     Id  MSSubClass MSZoning  LotFrontage  LotArea Street Alley LotShape  \\\n",
       "0  1461          20       RH         80.0    11622   Pave   NaN      Reg   \n",
       "1  1462          20       RL         81.0    14267   Pave   NaN      IR1   \n",
       "\n",
       "  LandContour Utilities  ... ScreenPorch PoolArea PoolQC  Fence MiscFeature  \\\n",
       "0         Lvl    AllPub  ...         120        0    NaN  MnPrv         NaN   \n",
       "1         Lvl    AllPub  ...           0        0    NaN    NaN        Gar2   \n",
       "\n",
       "  MiscVal MoSold  YrSold  SaleType  SaleCondition  \n",
       "0       0      6    2010        WD         Normal  \n",
       "1   12500      6    2010        WD         Normal  \n",
       "\n",
       "[2 rows x 80 columns]"
      ]
     },
     "execution_count": 6,
     "metadata": {},
     "output_type": "execute_result"
    }
   ],
   "source": [
    "test_dt.head(2)"
   ]
  },
  {
   "cell_type": "code",
   "execution_count": 7,
   "id": "046bf8f8",
   "metadata": {},
   "outputs": [
    {
     "data": {
      "text/plain": [
       "(1459, 80)"
      ]
     },
     "execution_count": 7,
     "metadata": {},
     "output_type": "execute_result"
    }
   ],
   "source": [
    "test_dt.shape"
   ]
  },
  {
   "cell_type": "code",
   "execution_count": 8,
   "id": "2b436f71",
   "metadata": {},
   "outputs": [
    {
     "name": "stderr",
     "output_type": "stream",
     "text": [
      "C:\\Users\\dell\\AppData\\Local\\Temp\\ipykernel_15364\\2992939010.py:1: FutureWarning: The frame.append method is deprecated and will be removed from pandas in a future version. Use pandas.concat instead.\n",
      "  final_dt = train_dt.append(test_dt)                        ###   Now both dataset merged together\n"
     ]
    }
   ],
   "source": [
    "final_dt = train_dt.append(test_dt)                        ###   Now both dataset merged together"
   ]
  },
  {
   "cell_type": "code",
   "execution_count": 9,
   "id": "ac26536e",
   "metadata": {},
   "outputs": [
    {
     "data": {
      "text/html": [
       "<div>\n",
       "<style scoped>\n",
       "    .dataframe tbody tr th:only-of-type {\n",
       "        vertical-align: middle;\n",
       "    }\n",
       "\n",
       "    .dataframe tbody tr th {\n",
       "        vertical-align: top;\n",
       "    }\n",
       "\n",
       "    .dataframe thead th {\n",
       "        text-align: right;\n",
       "    }\n",
       "</style>\n",
       "<table border=\"1\" class=\"dataframe\">\n",
       "  <thead>\n",
       "    <tr style=\"text-align: right;\">\n",
       "      <th></th>\n",
       "      <th>Id</th>\n",
       "      <th>MSSubClass</th>\n",
       "      <th>MSZoning</th>\n",
       "      <th>LotFrontage</th>\n",
       "      <th>LotArea</th>\n",
       "      <th>Street</th>\n",
       "      <th>Alley</th>\n",
       "      <th>LotShape</th>\n",
       "      <th>LandContour</th>\n",
       "      <th>Utilities</th>\n",
       "      <th>...</th>\n",
       "      <th>PoolArea</th>\n",
       "      <th>PoolQC</th>\n",
       "      <th>Fence</th>\n",
       "      <th>MiscFeature</th>\n",
       "      <th>MiscVal</th>\n",
       "      <th>MoSold</th>\n",
       "      <th>YrSold</th>\n",
       "      <th>SaleType</th>\n",
       "      <th>SaleCondition</th>\n",
       "      <th>SalePrice</th>\n",
       "    </tr>\n",
       "  </thead>\n",
       "  <tbody>\n",
       "    <tr>\n",
       "      <th>0</th>\n",
       "      <td>1</td>\n",
       "      <td>60</td>\n",
       "      <td>RL</td>\n",
       "      <td>65.0</td>\n",
       "      <td>8450</td>\n",
       "      <td>Pave</td>\n",
       "      <td>NaN</td>\n",
       "      <td>Reg</td>\n",
       "      <td>Lvl</td>\n",
       "      <td>AllPub</td>\n",
       "      <td>...</td>\n",
       "      <td>0</td>\n",
       "      <td>NaN</td>\n",
       "      <td>NaN</td>\n",
       "      <td>NaN</td>\n",
       "      <td>0</td>\n",
       "      <td>2</td>\n",
       "      <td>2008</td>\n",
       "      <td>WD</td>\n",
       "      <td>Normal</td>\n",
       "      <td>208500.0</td>\n",
       "    </tr>\n",
       "    <tr>\n",
       "      <th>1</th>\n",
       "      <td>2</td>\n",
       "      <td>20</td>\n",
       "      <td>RL</td>\n",
       "      <td>80.0</td>\n",
       "      <td>9600</td>\n",
       "      <td>Pave</td>\n",
       "      <td>NaN</td>\n",
       "      <td>Reg</td>\n",
       "      <td>Lvl</td>\n",
       "      <td>AllPub</td>\n",
       "      <td>...</td>\n",
       "      <td>0</td>\n",
       "      <td>NaN</td>\n",
       "      <td>NaN</td>\n",
       "      <td>NaN</td>\n",
       "      <td>0</td>\n",
       "      <td>5</td>\n",
       "      <td>2007</td>\n",
       "      <td>WD</td>\n",
       "      <td>Normal</td>\n",
       "      <td>181500.0</td>\n",
       "    </tr>\n",
       "    <tr>\n",
       "      <th>2</th>\n",
       "      <td>3</td>\n",
       "      <td>60</td>\n",
       "      <td>RL</td>\n",
       "      <td>68.0</td>\n",
       "      <td>11250</td>\n",
       "      <td>Pave</td>\n",
       "      <td>NaN</td>\n",
       "      <td>IR1</td>\n",
       "      <td>Lvl</td>\n",
       "      <td>AllPub</td>\n",
       "      <td>...</td>\n",
       "      <td>0</td>\n",
       "      <td>NaN</td>\n",
       "      <td>NaN</td>\n",
       "      <td>NaN</td>\n",
       "      <td>0</td>\n",
       "      <td>9</td>\n",
       "      <td>2008</td>\n",
       "      <td>WD</td>\n",
       "      <td>Normal</td>\n",
       "      <td>223500.0</td>\n",
       "    </tr>\n",
       "    <tr>\n",
       "      <th>3</th>\n",
       "      <td>4</td>\n",
       "      <td>70</td>\n",
       "      <td>RL</td>\n",
       "      <td>60.0</td>\n",
       "      <td>9550</td>\n",
       "      <td>Pave</td>\n",
       "      <td>NaN</td>\n",
       "      <td>IR1</td>\n",
       "      <td>Lvl</td>\n",
       "      <td>AllPub</td>\n",
       "      <td>...</td>\n",
       "      <td>0</td>\n",
       "      <td>NaN</td>\n",
       "      <td>NaN</td>\n",
       "      <td>NaN</td>\n",
       "      <td>0</td>\n",
       "      <td>2</td>\n",
       "      <td>2006</td>\n",
       "      <td>WD</td>\n",
       "      <td>Abnorml</td>\n",
       "      <td>140000.0</td>\n",
       "    </tr>\n",
       "    <tr>\n",
       "      <th>4</th>\n",
       "      <td>5</td>\n",
       "      <td>60</td>\n",
       "      <td>RL</td>\n",
       "      <td>84.0</td>\n",
       "      <td>14260</td>\n",
       "      <td>Pave</td>\n",
       "      <td>NaN</td>\n",
       "      <td>IR1</td>\n",
       "      <td>Lvl</td>\n",
       "      <td>AllPub</td>\n",
       "      <td>...</td>\n",
       "      <td>0</td>\n",
       "      <td>NaN</td>\n",
       "      <td>NaN</td>\n",
       "      <td>NaN</td>\n",
       "      <td>0</td>\n",
       "      <td>12</td>\n",
       "      <td>2008</td>\n",
       "      <td>WD</td>\n",
       "      <td>Normal</td>\n",
       "      <td>250000.0</td>\n",
       "    </tr>\n",
       "  </tbody>\n",
       "</table>\n",
       "<p>5 rows × 81 columns</p>\n",
       "</div>"
      ],
      "text/plain": [
       "   Id  MSSubClass MSZoning  LotFrontage  LotArea Street Alley LotShape  \\\n",
       "0   1          60       RL         65.0     8450   Pave   NaN      Reg   \n",
       "1   2          20       RL         80.0     9600   Pave   NaN      Reg   \n",
       "2   3          60       RL         68.0    11250   Pave   NaN      IR1   \n",
       "3   4          70       RL         60.0     9550   Pave   NaN      IR1   \n",
       "4   5          60       RL         84.0    14260   Pave   NaN      IR1   \n",
       "\n",
       "  LandContour Utilities  ... PoolArea PoolQC Fence MiscFeature MiscVal MoSold  \\\n",
       "0         Lvl    AllPub  ...        0    NaN   NaN         NaN       0      2   \n",
       "1         Lvl    AllPub  ...        0    NaN   NaN         NaN       0      5   \n",
       "2         Lvl    AllPub  ...        0    NaN   NaN         NaN       0      9   \n",
       "3         Lvl    AllPub  ...        0    NaN   NaN         NaN       0      2   \n",
       "4         Lvl    AllPub  ...        0    NaN   NaN         NaN       0     12   \n",
       "\n",
       "  YrSold  SaleType  SaleCondition  SalePrice  \n",
       "0   2008        WD         Normal   208500.0  \n",
       "1   2007        WD         Normal   181500.0  \n",
       "2   2008        WD         Normal   223500.0  \n",
       "3   2006        WD        Abnorml   140000.0  \n",
       "4   2008        WD         Normal   250000.0  \n",
       "\n",
       "[5 rows x 81 columns]"
      ]
     },
     "execution_count": 9,
     "metadata": {},
     "output_type": "execute_result"
    }
   ],
   "source": [
    "(final_dt.head())"
   ]
  },
  {
   "cell_type": "code",
   "execution_count": 10,
   "id": "6d68db6c",
   "metadata": {},
   "outputs": [
    {
     "name": "stdout",
     "output_type": "stream",
     "text": [
      "(2919, 81)\n"
     ]
    }
   ],
   "source": [
    "print(final_dt.shape)"
   ]
  },
  {
   "cell_type": "code",
   "execution_count": 11,
   "id": "c2bd7ef1",
   "metadata": {},
   "outputs": [
    {
     "name": "stdout",
     "output_type": "stream",
     "text": [
      "Index(['Id', 'MSSubClass', 'MSZoning', 'LotFrontage', 'LotArea', 'Street',\n",
      "       'Alley', 'LotShape', 'LandContour', 'Utilities', 'LotConfig',\n",
      "       'LandSlope', 'Neighborhood', 'Condition1', 'Condition2', 'BldgType',\n",
      "       'HouseStyle', 'OverallQual', 'OverallCond', 'YearBuilt', 'YearRemodAdd',\n",
      "       'RoofStyle', 'RoofMatl', 'Exterior1st', 'Exterior2nd', 'MasVnrType',\n",
      "       'MasVnrArea', 'ExterQual', 'ExterCond', 'Foundation', 'BsmtQual',\n",
      "       'BsmtCond', 'BsmtExposure', 'BsmtFinType1', 'BsmtFinSF1',\n",
      "       'BsmtFinType2', 'BsmtFinSF2', 'BsmtUnfSF', 'TotalBsmtSF', 'Heating',\n",
      "       'HeatingQC', 'CentralAir', 'Electrical', '1stFlrSF', '2ndFlrSF',\n",
      "       'LowQualFinSF', 'GrLivArea', 'BsmtFullBath', 'BsmtHalfBath', 'FullBath',\n",
      "       'HalfBath', 'BedroomAbvGr', 'KitchenAbvGr', 'KitchenQual',\n",
      "       'TotRmsAbvGrd', 'Functional', 'Fireplaces', 'FireplaceQu', 'GarageType',\n",
      "       'GarageYrBlt', 'GarageFinish', 'GarageCars', 'GarageArea', 'GarageQual',\n",
      "       'GarageCond', 'PavedDrive', 'WoodDeckSF', 'OpenPorchSF',\n",
      "       'EnclosedPorch', '3SsnPorch', 'ScreenPorch', 'PoolArea', 'PoolQC',\n",
      "       'Fence', 'MiscFeature', 'MiscVal', 'MoSold', 'YrSold', 'SaleType',\n",
      "       'SaleCondition', 'SalePrice'],\n",
      "      dtype='object')\n"
     ]
    }
   ],
   "source": [
    "print(final_dt.columns)"
   ]
  },
  {
   "cell_type": "code",
   "execution_count": 12,
   "id": "c3a52404",
   "metadata": {},
   "outputs": [
    {
     "name": "stdout",
     "output_type": "stream",
     "text": [
      "<class 'pandas.core.frame.DataFrame'>\n",
      "Int64Index: 2919 entries, 0 to 1458\n",
      "Data columns (total 81 columns):\n",
      " #   Column         Non-Null Count  Dtype  \n",
      "---  ------         --------------  -----  \n",
      " 0   Id             2919 non-null   int64  \n",
      " 1   MSSubClass     2919 non-null   int64  \n",
      " 2   MSZoning       2915 non-null   object \n",
      " 3   LotFrontage    2433 non-null   float64\n",
      " 4   LotArea        2919 non-null   int64  \n",
      " 5   Street         2919 non-null   object \n",
      " 6   Alley          198 non-null    object \n",
      " 7   LotShape       2919 non-null   object \n",
      " 8   LandContour    2919 non-null   object \n",
      " 9   Utilities      2917 non-null   object \n",
      " 10  LotConfig      2919 non-null   object \n",
      " 11  LandSlope      2919 non-null   object \n",
      " 12  Neighborhood   2919 non-null   object \n",
      " 13  Condition1     2919 non-null   object \n",
      " 14  Condition2     2919 non-null   object \n",
      " 15  BldgType       2919 non-null   object \n",
      " 16  HouseStyle     2919 non-null   object \n",
      " 17  OverallQual    2919 non-null   int64  \n",
      " 18  OverallCond    2919 non-null   int64  \n",
      " 19  YearBuilt      2919 non-null   int64  \n",
      " 20  YearRemodAdd   2919 non-null   int64  \n",
      " 21  RoofStyle      2919 non-null   object \n",
      " 22  RoofMatl       2919 non-null   object \n",
      " 23  Exterior1st    2918 non-null   object \n",
      " 24  Exterior2nd    2918 non-null   object \n",
      " 25  MasVnrType     2895 non-null   object \n",
      " 26  MasVnrArea     2896 non-null   float64\n",
      " 27  ExterQual      2919 non-null   object \n",
      " 28  ExterCond      2919 non-null   object \n",
      " 29  Foundation     2919 non-null   object \n",
      " 30  BsmtQual       2838 non-null   object \n",
      " 31  BsmtCond       2837 non-null   object \n",
      " 32  BsmtExposure   2837 non-null   object \n",
      " 33  BsmtFinType1   2840 non-null   object \n",
      " 34  BsmtFinSF1     2918 non-null   float64\n",
      " 35  BsmtFinType2   2839 non-null   object \n",
      " 36  BsmtFinSF2     2918 non-null   float64\n",
      " 37  BsmtUnfSF      2918 non-null   float64\n",
      " 38  TotalBsmtSF    2918 non-null   float64\n",
      " 39  Heating        2919 non-null   object \n",
      " 40  HeatingQC      2919 non-null   object \n",
      " 41  CentralAir     2919 non-null   object \n",
      " 42  Electrical     2918 non-null   object \n",
      " 43  1stFlrSF       2919 non-null   int64  \n",
      " 44  2ndFlrSF       2919 non-null   int64  \n",
      " 45  LowQualFinSF   2919 non-null   int64  \n",
      " 46  GrLivArea      2919 non-null   int64  \n",
      " 47  BsmtFullBath   2917 non-null   float64\n",
      " 48  BsmtHalfBath   2917 non-null   float64\n",
      " 49  FullBath       2919 non-null   int64  \n",
      " 50  HalfBath       2919 non-null   int64  \n",
      " 51  BedroomAbvGr   2919 non-null   int64  \n",
      " 52  KitchenAbvGr   2919 non-null   int64  \n",
      " 53  KitchenQual    2918 non-null   object \n",
      " 54  TotRmsAbvGrd   2919 non-null   int64  \n",
      " 55  Functional     2917 non-null   object \n",
      " 56  Fireplaces     2919 non-null   int64  \n",
      " 57  FireplaceQu    1499 non-null   object \n",
      " 58  GarageType     2762 non-null   object \n",
      " 59  GarageYrBlt    2760 non-null   float64\n",
      " 60  GarageFinish   2760 non-null   object \n",
      " 61  GarageCars     2918 non-null   float64\n",
      " 62  GarageArea     2918 non-null   float64\n",
      " 63  GarageQual     2760 non-null   object \n",
      " 64  GarageCond     2760 non-null   object \n",
      " 65  PavedDrive     2919 non-null   object \n",
      " 66  WoodDeckSF     2919 non-null   int64  \n",
      " 67  OpenPorchSF    2919 non-null   int64  \n",
      " 68  EnclosedPorch  2919 non-null   int64  \n",
      " 69  3SsnPorch      2919 non-null   int64  \n",
      " 70  ScreenPorch    2919 non-null   int64  \n",
      " 71  PoolArea       2919 non-null   int64  \n",
      " 72  PoolQC         10 non-null     object \n",
      " 73  Fence          571 non-null    object \n",
      " 74  MiscFeature    105 non-null    object \n",
      " 75  MiscVal        2919 non-null   int64  \n",
      " 76  MoSold         2919 non-null   int64  \n",
      " 77  YrSold         2919 non-null   int64  \n",
      " 78  SaleType       2918 non-null   object \n",
      " 79  SaleCondition  2919 non-null   object \n",
      " 80  SalePrice      1460 non-null   float64\n",
      "dtypes: float64(12), int64(26), object(43)\n",
      "memory usage: 1.8+ MB\n",
      "None\n"
     ]
    }
   ],
   "source": [
    "print(final_dt.info())"
   ]
  },
  {
   "cell_type": "code",
   "execution_count": 13,
   "id": "4eca3570",
   "metadata": {},
   "outputs": [
    {
     "name": "stdout",
     "output_type": "stream",
     "text": [
      "                Id   MSSubClass  LotFrontage        LotArea  OverallQual  \\\n",
      "count  2919.000000  2919.000000  2433.000000    2919.000000  2919.000000   \n",
      "mean   1460.000000    57.137718    69.305795   10168.114080     6.089072   \n",
      "std     842.787043    42.517628    23.344905    7886.996359     1.409947   \n",
      "min       1.000000    20.000000    21.000000    1300.000000     1.000000   \n",
      "25%     730.500000    20.000000    59.000000    7478.000000     5.000000   \n",
      "50%    1460.000000    50.000000    68.000000    9453.000000     6.000000   \n",
      "75%    2189.500000    70.000000    80.000000   11570.000000     7.000000   \n",
      "max    2919.000000   190.000000   313.000000  215245.000000    10.000000   \n",
      "\n",
      "       OverallCond    YearBuilt  YearRemodAdd   MasVnrArea   BsmtFinSF1  ...  \\\n",
      "count  2919.000000  2919.000000   2919.000000  2896.000000  2918.000000  ...   \n",
      "mean      5.564577  1971.312778   1984.264474   102.201312   441.423235  ...   \n",
      "std       1.113131    30.291442     20.894344   179.334253   455.610826  ...   \n",
      "min       1.000000  1872.000000   1950.000000     0.000000     0.000000  ...   \n",
      "25%       5.000000  1953.500000   1965.000000     0.000000     0.000000  ...   \n",
      "50%       5.000000  1973.000000   1993.000000     0.000000   368.500000  ...   \n",
      "75%       6.000000  2001.000000   2004.000000   164.000000   733.000000  ...   \n",
      "max       9.000000  2010.000000   2010.000000  1600.000000  5644.000000  ...   \n",
      "\n",
      "        WoodDeckSF  OpenPorchSF  EnclosedPorch    3SsnPorch  ScreenPorch  \\\n",
      "count  2919.000000  2919.000000    2919.000000  2919.000000  2919.000000   \n",
      "mean     93.709832    47.486811      23.098321     2.602261    16.062350   \n",
      "std     126.526589    67.575493      64.244246    25.188169    56.184365   \n",
      "min       0.000000     0.000000       0.000000     0.000000     0.000000   \n",
      "25%       0.000000     0.000000       0.000000     0.000000     0.000000   \n",
      "50%       0.000000    26.000000       0.000000     0.000000     0.000000   \n",
      "75%     168.000000    70.000000       0.000000     0.000000     0.000000   \n",
      "max    1424.000000   742.000000    1012.000000   508.000000   576.000000   \n",
      "\n",
      "          PoolArea       MiscVal       MoSold       YrSold      SalePrice  \n",
      "count  2919.000000   2919.000000  2919.000000  2919.000000    1460.000000  \n",
      "mean      2.251799     50.825968     6.213087  2007.792737  180921.195890  \n",
      "std      35.663946    567.402211     2.714762     1.314964   79442.502883  \n",
      "min       0.000000      0.000000     1.000000  2006.000000   34900.000000  \n",
      "25%       0.000000      0.000000     4.000000  2007.000000  129975.000000  \n",
      "50%       0.000000      0.000000     6.000000  2008.000000  163000.000000  \n",
      "75%       0.000000      0.000000     8.000000  2009.000000  214000.000000  \n",
      "max     800.000000  17000.000000    12.000000  2010.000000  755000.000000  \n",
      "\n",
      "[8 rows x 38 columns]\n"
     ]
    }
   ],
   "source": [
    "print(final_dt.describe())"
   ]
  },
  {
   "cell_type": "code",
   "execution_count": 14,
   "id": "466e9cb2",
   "metadata": {},
   "outputs": [
    {
     "name": "stdout",
     "output_type": "stream",
     "text": [
      "Id                  0\n",
      "MSSubClass          0\n",
      "MSZoning            4\n",
      "LotFrontage       486\n",
      "LotArea             0\n",
      "                 ... \n",
      "MoSold              0\n",
      "YrSold              0\n",
      "SaleType            1\n",
      "SaleCondition       0\n",
      "SalePrice        1459\n",
      "Length: 81, dtype: int64\n"
     ]
    }
   ],
   "source": [
    "print(final_dt.isnull().sum())   # There are many nan values in Sales data "
   ]
  },
  {
   "cell_type": "markdown",
   "id": "179e72ae",
   "metadata": {},
   "source": [
    "####  In our data there are so many Null values which we can't see so for that we are using another code"
   ]
  },
  {
   "cell_type": "code",
   "execution_count": 15,
   "id": "99203989",
   "metadata": {},
   "outputs": [
    {
     "data": {
      "text/plain": [
       "['MSZoning',\n",
       " 'LotFrontage',\n",
       " 'Alley',\n",
       " 'Utilities',\n",
       " 'Exterior1st',\n",
       " 'Exterior2nd',\n",
       " 'MasVnrType',\n",
       " 'MasVnrArea',\n",
       " 'BsmtQual',\n",
       " 'BsmtCond',\n",
       " 'BsmtExposure',\n",
       " 'BsmtFinType1',\n",
       " 'BsmtFinSF1',\n",
       " 'BsmtFinType2',\n",
       " 'BsmtFinSF2',\n",
       " 'BsmtUnfSF',\n",
       " 'TotalBsmtSF',\n",
       " 'Electrical',\n",
       " 'BsmtFullBath',\n",
       " 'BsmtHalfBath',\n",
       " 'KitchenQual',\n",
       " 'Functional',\n",
       " 'FireplaceQu',\n",
       " 'GarageType',\n",
       " 'GarageYrBlt',\n",
       " 'GarageFinish',\n",
       " 'GarageCars',\n",
       " 'GarageArea',\n",
       " 'GarageQual',\n",
       " 'GarageCond',\n",
       " 'PoolQC',\n",
       " 'Fence',\n",
       " 'MiscFeature',\n",
       " 'SaleType',\n",
       " 'SalePrice']"
      ]
     },
     "execution_count": 15,
     "metadata": {},
     "output_type": "execute_result"
    }
   ],
   "source": [
    "[features for  features in final_dt.columns if final_dt[features].isnull().sum()>0]"
   ]
  },
  {
   "cell_type": "markdown",
   "id": "fe59677a",
   "metadata": {},
   "source": [
    "### Now we can see which columns have Null values"
   ]
  },
  {
   "cell_type": "code",
   "execution_count": 16,
   "id": "09883f9a",
   "metadata": {},
   "outputs": [],
   "source": [
    "sample_dt=pd.read_csv(r\"C:\\Users\\dell\\Downloads\\sample_submission.csv\")## this is another column which we have merged with final_dt"
   ]
  },
  {
   "cell_type": "code",
   "execution_count": 17,
   "id": "02d3940f",
   "metadata": {},
   "outputs": [
    {
     "name": "stderr",
     "output_type": "stream",
     "text": [
      "C:\\Users\\dell\\AppData\\Local\\Temp\\ipykernel_15364\\1885918107.py:1: UserWarning: You are merging on int and float columns where the float values are not equal to their int representation.\n",
      "  final_dt = pd.merge(train_dt,sample_dt,on='SalePrice',how='left')\n"
     ]
    }
   ],
   "source": [
    "final_dt = pd.merge(train_dt,sample_dt,on='SalePrice',how='left')"
   ]
  },
  {
   "cell_type": "code",
   "execution_count": 18,
   "id": "623bd424",
   "metadata": {},
   "outputs": [
    {
     "data": {
      "text/html": [
       "<div>\n",
       "<style scoped>\n",
       "    .dataframe tbody tr th:only-of-type {\n",
       "        vertical-align: middle;\n",
       "    }\n",
       "\n",
       "    .dataframe tbody tr th {\n",
       "        vertical-align: top;\n",
       "    }\n",
       "\n",
       "    .dataframe thead th {\n",
       "        text-align: right;\n",
       "    }\n",
       "</style>\n",
       "<table border=\"1\" class=\"dataframe\">\n",
       "  <thead>\n",
       "    <tr style=\"text-align: right;\">\n",
       "      <th></th>\n",
       "      <th>Id_x</th>\n",
       "      <th>MSSubClass</th>\n",
       "      <th>MSZoning</th>\n",
       "      <th>LotFrontage</th>\n",
       "      <th>LotArea</th>\n",
       "      <th>Street</th>\n",
       "      <th>Alley</th>\n",
       "      <th>LotShape</th>\n",
       "      <th>LandContour</th>\n",
       "      <th>Utilities</th>\n",
       "      <th>...</th>\n",
       "      <th>PoolQC</th>\n",
       "      <th>Fence</th>\n",
       "      <th>MiscFeature</th>\n",
       "      <th>MiscVal</th>\n",
       "      <th>MoSold</th>\n",
       "      <th>YrSold</th>\n",
       "      <th>SaleType</th>\n",
       "      <th>SaleCondition</th>\n",
       "      <th>SalePrice</th>\n",
       "      <th>Id_y</th>\n",
       "    </tr>\n",
       "  </thead>\n",
       "  <tbody>\n",
       "  </tbody>\n",
       "</table>\n",
       "<p>0 rows × 82 columns</p>\n",
       "</div>"
      ],
      "text/plain": [
       "Empty DataFrame\n",
       "Columns: [Id_x, MSSubClass, MSZoning, LotFrontage, LotArea, Street, Alley, LotShape, LandContour, Utilities, LotConfig, LandSlope, Neighborhood, Condition1, Condition2, BldgType, HouseStyle, OverallQual, OverallCond, YearBuilt, YearRemodAdd, RoofStyle, RoofMatl, Exterior1st, Exterior2nd, MasVnrType, MasVnrArea, ExterQual, ExterCond, Foundation, BsmtQual, BsmtCond, BsmtExposure, BsmtFinType1, BsmtFinSF1, BsmtFinType2, BsmtFinSF2, BsmtUnfSF, TotalBsmtSF, Heating, HeatingQC, CentralAir, Electrical, 1stFlrSF, 2ndFlrSF, LowQualFinSF, GrLivArea, BsmtFullBath, BsmtHalfBath, FullBath, HalfBath, BedroomAbvGr, KitchenAbvGr, KitchenQual, TotRmsAbvGrd, Functional, Fireplaces, FireplaceQu, GarageType, GarageYrBlt, GarageFinish, GarageCars, GarageArea, GarageQual, GarageCond, PavedDrive, WoodDeckSF, OpenPorchSF, EnclosedPorch, 3SsnPorch, ScreenPorch, PoolArea, PoolQC, Fence, MiscFeature, MiscVal, MoSold, YrSold, SaleType, SaleCondition, SalePrice, Id_y]\n",
       "Index: []\n",
       "\n",
       "[0 rows x 82 columns]"
      ]
     },
     "execution_count": 18,
     "metadata": {},
     "output_type": "execute_result"
    }
   ],
   "source": [
    "final_dt[final_dt['MSZoning'].isnull()]"
   ]
  },
  {
   "cell_type": "code",
   "execution_count": 19,
   "id": "c23234b8",
   "metadata": {},
   "outputs": [
    {
     "data": {
      "text/plain": [
       "Id_x                0\n",
       "MSSubClass          0\n",
       "MSZoning            0\n",
       "LotFrontage       259\n",
       "LotArea             0\n",
       "                 ... \n",
       "YrSold              0\n",
       "SaleType            0\n",
       "SaleCondition       0\n",
       "SalePrice           0\n",
       "Id_y             1460\n",
       "Length: 82, dtype: int64"
      ]
     },
     "execution_count": 19,
     "metadata": {},
     "output_type": "execute_result"
    }
   ],
   "source": [
    "final_dt.isnull().sum()      ###   Now Sales column don't have any nan value "
   ]
  },
  {
   "cell_type": "code",
   "execution_count": 20,
   "id": "9df16389",
   "metadata": {},
   "outputs": [],
   "source": [
    "###  In our dataset there are so many columns some column are important and some are not so we have to checked and delete those\n",
    "###  unneccery columns"
   ]
  },
  {
   "cell_type": "code",
   "execution_count": 21,
   "id": "1fafb45b",
   "metadata": {},
   "outputs": [
    {
     "name": "stderr",
     "output_type": "stream",
     "text": [
      "C:\\Users\\dell\\AppData\\Local\\Temp\\ipykernel_15364\\962495605.py:1: FutureWarning: The default value of numeric_only in DataFrame.corr is deprecated. In a future version, it will default to False. Select only valid columns or specify the value of numeric_only to silence this warning.\n",
      "  final_dt.corr()['SalePrice']>0.4 ## Here those value are true we will be considred those because those are important for our predction\n"
     ]
    },
    {
     "data": {
      "text/plain": [
       "Id_x             False\n",
       "MSSubClass       False\n",
       "LotFrontage      False\n",
       "LotArea          False\n",
       "OverallQual       True\n",
       "OverallCond      False\n",
       "YearBuilt         True\n",
       "YearRemodAdd      True\n",
       "MasVnrArea        True\n",
       "BsmtFinSF1       False\n",
       "BsmtFinSF2       False\n",
       "BsmtUnfSF        False\n",
       "TotalBsmtSF       True\n",
       "1stFlrSF          True\n",
       "2ndFlrSF         False\n",
       "LowQualFinSF     False\n",
       "GrLivArea         True\n",
       "BsmtFullBath     False\n",
       "BsmtHalfBath     False\n",
       "FullBath          True\n",
       "HalfBath         False\n",
       "BedroomAbvGr     False\n",
       "KitchenAbvGr     False\n",
       "TotRmsAbvGrd      True\n",
       "Fireplaces        True\n",
       "GarageYrBlt       True\n",
       "GarageCars        True\n",
       "GarageArea        True\n",
       "WoodDeckSF       False\n",
       "OpenPorchSF      False\n",
       "EnclosedPorch    False\n",
       "3SsnPorch        False\n",
       "ScreenPorch      False\n",
       "PoolArea         False\n",
       "MiscVal          False\n",
       "MoSold           False\n",
       "YrSold           False\n",
       "SalePrice         True\n",
       "Id_y             False\n",
       "Name: SalePrice, dtype: bool"
      ]
     },
     "execution_count": 21,
     "metadata": {},
     "output_type": "execute_result"
    }
   ],
   "source": [
    "final_dt.corr()['SalePrice']>0.4 ## Here those value are true we will be considred those because those are important for our predction"
   ]
  },
  {
   "cell_type": "code",
   "execution_count": 22,
   "id": "e49a09c9",
   "metadata": {},
   "outputs": [],
   "source": [
    "## now we can do two thing \n",
    "#. we can drop those columns which one are false\n",
    "#2. we can create a new variable and take those which one are true"
   ]
  },
  {
   "cell_type": "code",
   "execution_count": 23,
   "id": "b16dfe24",
   "metadata": {},
   "outputs": [],
   "source": [
    "# We are creating a new variable and take those which one are true"
   ]
  },
  {
   "cell_type": "code",
   "execution_count": 24,
   "id": "23e795b7",
   "metadata": {},
   "outputs": [],
   "source": [
    "column = final_dt[['OverallQual','YearBuilt','YearRemodAdd','MasVnrArea','TotalBsmtSF','1stFlrSF','GrLivArea','FullBath','TotRmsAbvGrd','Fireplaces','GarageYrBlt','GarageCars','GarageArea','SalePrice']]"
   ]
  },
  {
   "cell_type": "code",
   "execution_count": 25,
   "id": "c1f1fbae",
   "metadata": {},
   "outputs": [
    {
     "data": {
      "text/html": [
       "<div>\n",
       "<style scoped>\n",
       "    .dataframe tbody tr th:only-of-type {\n",
       "        vertical-align: middle;\n",
       "    }\n",
       "\n",
       "    .dataframe tbody tr th {\n",
       "        vertical-align: top;\n",
       "    }\n",
       "\n",
       "    .dataframe thead th {\n",
       "        text-align: right;\n",
       "    }\n",
       "</style>\n",
       "<table border=\"1\" class=\"dataframe\">\n",
       "  <thead>\n",
       "    <tr style=\"text-align: right;\">\n",
       "      <th></th>\n",
       "      <th>OverallQual</th>\n",
       "      <th>YearBuilt</th>\n",
       "      <th>YearRemodAdd</th>\n",
       "      <th>MasVnrArea</th>\n",
       "      <th>TotalBsmtSF</th>\n",
       "      <th>1stFlrSF</th>\n",
       "      <th>GrLivArea</th>\n",
       "      <th>FullBath</th>\n",
       "      <th>TotRmsAbvGrd</th>\n",
       "      <th>Fireplaces</th>\n",
       "      <th>GarageYrBlt</th>\n",
       "      <th>GarageCars</th>\n",
       "      <th>GarageArea</th>\n",
       "      <th>SalePrice</th>\n",
       "    </tr>\n",
       "  </thead>\n",
       "  <tbody>\n",
       "    <tr>\n",
       "      <th>0</th>\n",
       "      <td>7</td>\n",
       "      <td>2003</td>\n",
       "      <td>2003</td>\n",
       "      <td>196.0</td>\n",
       "      <td>856</td>\n",
       "      <td>856</td>\n",
       "      <td>1710</td>\n",
       "      <td>2</td>\n",
       "      <td>8</td>\n",
       "      <td>0</td>\n",
       "      <td>2003.0</td>\n",
       "      <td>2</td>\n",
       "      <td>548</td>\n",
       "      <td>208500</td>\n",
       "    </tr>\n",
       "    <tr>\n",
       "      <th>1</th>\n",
       "      <td>6</td>\n",
       "      <td>1976</td>\n",
       "      <td>1976</td>\n",
       "      <td>0.0</td>\n",
       "      <td>1262</td>\n",
       "      <td>1262</td>\n",
       "      <td>1262</td>\n",
       "      <td>2</td>\n",
       "      <td>6</td>\n",
       "      <td>1</td>\n",
       "      <td>1976.0</td>\n",
       "      <td>2</td>\n",
       "      <td>460</td>\n",
       "      <td>181500</td>\n",
       "    </tr>\n",
       "    <tr>\n",
       "      <th>2</th>\n",
       "      <td>7</td>\n",
       "      <td>2001</td>\n",
       "      <td>2002</td>\n",
       "      <td>162.0</td>\n",
       "      <td>920</td>\n",
       "      <td>920</td>\n",
       "      <td>1786</td>\n",
       "      <td>2</td>\n",
       "      <td>6</td>\n",
       "      <td>1</td>\n",
       "      <td>2001.0</td>\n",
       "      <td>2</td>\n",
       "      <td>608</td>\n",
       "      <td>223500</td>\n",
       "    </tr>\n",
       "    <tr>\n",
       "      <th>3</th>\n",
       "      <td>7</td>\n",
       "      <td>1915</td>\n",
       "      <td>1970</td>\n",
       "      <td>0.0</td>\n",
       "      <td>756</td>\n",
       "      <td>961</td>\n",
       "      <td>1717</td>\n",
       "      <td>1</td>\n",
       "      <td>7</td>\n",
       "      <td>1</td>\n",
       "      <td>1998.0</td>\n",
       "      <td>3</td>\n",
       "      <td>642</td>\n",
       "      <td>140000</td>\n",
       "    </tr>\n",
       "    <tr>\n",
       "      <th>4</th>\n",
       "      <td>8</td>\n",
       "      <td>2000</td>\n",
       "      <td>2000</td>\n",
       "      <td>350.0</td>\n",
       "      <td>1145</td>\n",
       "      <td>1145</td>\n",
       "      <td>2198</td>\n",
       "      <td>2</td>\n",
       "      <td>9</td>\n",
       "      <td>1</td>\n",
       "      <td>2000.0</td>\n",
       "      <td>3</td>\n",
       "      <td>836</td>\n",
       "      <td>250000</td>\n",
       "    </tr>\n",
       "  </tbody>\n",
       "</table>\n",
       "</div>"
      ],
      "text/plain": [
       "   OverallQual  YearBuilt  YearRemodAdd  MasVnrArea  TotalBsmtSF  1stFlrSF  \\\n",
       "0            7       2003          2003       196.0          856       856   \n",
       "1            6       1976          1976         0.0         1262      1262   \n",
       "2            7       2001          2002       162.0          920       920   \n",
       "3            7       1915          1970         0.0          756       961   \n",
       "4            8       2000          2000       350.0         1145      1145   \n",
       "\n",
       "   GrLivArea  FullBath  TotRmsAbvGrd  Fireplaces  GarageYrBlt  GarageCars  \\\n",
       "0       1710         2             8           0       2003.0           2   \n",
       "1       1262         2             6           1       1976.0           2   \n",
       "2       1786         2             6           1       2001.0           2   \n",
       "3       1717         1             7           1       1998.0           3   \n",
       "4       2198         2             9           1       2000.0           3   \n",
       "\n",
       "   GarageArea  SalePrice  \n",
       "0         548     208500  \n",
       "1         460     181500  \n",
       "2         608     223500  \n",
       "3         642     140000  \n",
       "4         836     250000  "
      ]
     },
     "execution_count": 25,
     "metadata": {},
     "output_type": "execute_result"
    }
   ],
   "source": [
    "column.head()"
   ]
  },
  {
   "cell_type": "code",
   "execution_count": 26,
   "id": "dded3cbd",
   "metadata": {
    "collapsed": true
   },
   "outputs": [
    {
     "name": "stdout",
     "output_type": "stream",
     "text": [
      "<class 'pandas.core.frame.DataFrame'>\n",
      "Int64Index: 1460 entries, 0 to 1459\n",
      "Data columns (total 14 columns):\n",
      " #   Column        Non-Null Count  Dtype  \n",
      "---  ------        --------------  -----  \n",
      " 0   OverallQual   1460 non-null   int64  \n",
      " 1   YearBuilt     1460 non-null   int64  \n",
      " 2   YearRemodAdd  1460 non-null   int64  \n",
      " 3   MasVnrArea    1452 non-null   float64\n",
      " 4   TotalBsmtSF   1460 non-null   int64  \n",
      " 5   1stFlrSF      1460 non-null   int64  \n",
      " 6   GrLivArea     1460 non-null   int64  \n",
      " 7   FullBath      1460 non-null   int64  \n",
      " 8   TotRmsAbvGrd  1460 non-null   int64  \n",
      " 9   Fireplaces    1460 non-null   int64  \n",
      " 10  GarageYrBlt   1379 non-null   float64\n",
      " 11  GarageCars    1460 non-null   int64  \n",
      " 12  GarageArea    1460 non-null   int64  \n",
      " 13  SalePrice     1460 non-null   int64  \n",
      "dtypes: float64(2), int64(12)\n",
      "memory usage: 171.1 KB\n"
     ]
    }
   ],
   "source": [
    "column.info()"
   ]
  },
  {
   "cell_type": "code",
   "execution_count": 27,
   "id": "a93ae774",
   "metadata": {
    "collapsed": true
   },
   "outputs": [
    {
     "data": {
      "text/plain": [
       "OverallQual      0\n",
       "YearBuilt        0\n",
       "YearRemodAdd     0\n",
       "MasVnrArea       8\n",
       "TotalBsmtSF      0\n",
       "1stFlrSF         0\n",
       "GrLivArea        0\n",
       "FullBath         0\n",
       "TotRmsAbvGrd     0\n",
       "Fireplaces       0\n",
       "GarageYrBlt     81\n",
       "GarageCars       0\n",
       "GarageArea       0\n",
       "SalePrice        0\n",
       "dtype: int64"
      ]
     },
     "execution_count": 27,
     "metadata": {},
     "output_type": "execute_result"
    }
   ],
   "source": [
    "column.isnull().sum()"
   ]
  },
  {
   "cell_type": "code",
   "execution_count": 28,
   "id": "6917ea64",
   "metadata": {},
   "outputs": [],
   "source": [
    "##  There are null value in two column so we take the mean of particular column and fill"
   ]
  },
  {
   "cell_type": "code",
   "execution_count": 29,
   "id": "48b37608",
   "metadata": {
    "collapsed": true
   },
   "outputs": [
    {
     "data": {
      "text/plain": [
       "103.68526170798899"
      ]
     },
     "execution_count": 29,
     "metadata": {},
     "output_type": "execute_result"
    }
   ],
   "source": [
    "column['MasVnrArea'].mean()                                                            "
   ]
  },
  {
   "cell_type": "code",
   "execution_count": 30,
   "id": "858636a1",
   "metadata": {
    "collapsed": true
   },
   "outputs": [
    {
     "name": "stderr",
     "output_type": "stream",
     "text": [
      "C:\\Users\\dell\\AppData\\Local\\Temp\\ipykernel_15364\\1498303896.py:1: SettingWithCopyWarning: \n",
      "A value is trying to be set on a copy of a slice from a DataFrame\n",
      "\n",
      "See the caveats in the documentation: https://pandas.pydata.org/pandas-docs/stable/user_guide/indexing.html#returning-a-view-versus-a-copy\n",
      "  column['MasVnrArea'].fillna(103,inplace=True)\n"
     ]
    }
   ],
   "source": [
    "column['MasVnrArea'].fillna(103,inplace=True)"
   ]
  },
  {
   "cell_type": "code",
   "execution_count": 31,
   "id": "bc7a5c7d",
   "metadata": {
    "collapsed": true
   },
   "outputs": [
    {
     "data": {
      "text/plain": [
       "1978.5061638868744"
      ]
     },
     "execution_count": 31,
     "metadata": {},
     "output_type": "execute_result"
    }
   ],
   "source": [
    "column['GarageYrBlt'].mean() "
   ]
  },
  {
   "cell_type": "code",
   "execution_count": 32,
   "id": "3a11a96d",
   "metadata": {
    "collapsed": true
   },
   "outputs": [
    {
     "name": "stderr",
     "output_type": "stream",
     "text": [
      "C:\\Users\\dell\\AppData\\Local\\Temp\\ipykernel_15364\\2125993684.py:1: SettingWithCopyWarning: \n",
      "A value is trying to be set on a copy of a slice from a DataFrame\n",
      "\n",
      "See the caveats in the documentation: https://pandas.pydata.org/pandas-docs/stable/user_guide/indexing.html#returning-a-view-versus-a-copy\n",
      "  column['GarageYrBlt'].fillna(1978,inplace=True)\n"
     ]
    }
   ],
   "source": [
    "column['GarageYrBlt'].fillna(1978,inplace=True)"
   ]
  },
  {
   "cell_type": "code",
   "execution_count": 33,
   "id": "c0497eb4",
   "metadata": {
    "collapsed": true
   },
   "outputs": [
    {
     "data": {
      "text/plain": [
       "OverallQual     0\n",
       "YearBuilt       0\n",
       "YearRemodAdd    0\n",
       "MasVnrArea      0\n",
       "TotalBsmtSF     0\n",
       "1stFlrSF        0\n",
       "GrLivArea       0\n",
       "FullBath        0\n",
       "TotRmsAbvGrd    0\n",
       "Fireplaces      0\n",
       "GarageYrBlt     0\n",
       "GarageCars      0\n",
       "GarageArea      0\n",
       "SalePrice       0\n",
       "dtype: int64"
      ]
     },
     "execution_count": 33,
     "metadata": {},
     "output_type": "execute_result"
    }
   ],
   "source": [
    "column.isnull().sum()     #  Now our data is clean   so we can create model"
   ]
  },
  {
   "cell_type": "code",
   "execution_count": 34,
   "id": "b626c913",
   "metadata": {},
   "outputs": [],
   "source": [
    "## Now we have to scale down the values because our SalePrice column is very high compare to other columns otherwise our model\n",
    "##  will be not performed well."
   ]
  },
  {
   "cell_type": "code",
   "execution_count": 35,
   "id": "68b1598b",
   "metadata": {},
   "outputs": [],
   "source": [
    "from sklearn.preprocessing import StandardScaler"
   ]
  },
  {
   "cell_type": "code",
   "execution_count": 36,
   "id": "0d3b4ebe",
   "metadata": {},
   "outputs": [],
   "source": [
    "scaler = StandardScaler()"
   ]
  },
  {
   "cell_type": "code",
   "execution_count": 37,
   "id": "4f489b4c",
   "metadata": {
    "collapsed": true
   },
   "outputs": [
    {
     "data": {
      "text/plain": [
       "array([[ 0.65147924,  1.05099379,  0.87866809, ...,  0.31172464,\n",
       "         0.35100032,  0.34727322],\n",
       "       [-0.07183611,  0.15673371, -0.42957697, ...,  0.31172464,\n",
       "        -0.06073101,  0.00728832],\n",
       "       [ 0.65147924,  0.9847523 ,  0.83021457, ...,  0.31172464,\n",
       "         0.63172623,  0.53615372],\n",
       "       ...,\n",
       "       [ 0.65147924, -1.00249232,  1.02402865, ..., -1.02685765,\n",
       "        -1.03391416,  1.07761115],\n",
       "       [-0.79515147, -0.70440562,  0.53949344, ..., -1.02685765,\n",
       "        -1.09005935, -0.48852299],\n",
       "       [-0.79515147, -0.20759447, -0.96256569, ..., -1.02685765,\n",
       "        -0.9216238 , -0.42084081]])"
      ]
     },
     "execution_count": 37,
     "metadata": {},
     "output_type": "execute_result"
    }
   ],
   "source": [
    "  scaler.fit_transform(column)"
   ]
  },
  {
   "cell_type": "code",
   "execution_count": 38,
   "id": "a779b7fd",
   "metadata": {
    "collapsed": true
   },
   "outputs": [
    {
     "data": {
      "text/html": [
       "<div>\n",
       "<style scoped>\n",
       "    .dataframe tbody tr th:only-of-type {\n",
       "        vertical-align: middle;\n",
       "    }\n",
       "\n",
       "    .dataframe tbody tr th {\n",
       "        vertical-align: top;\n",
       "    }\n",
       "\n",
       "    .dataframe thead th {\n",
       "        text-align: right;\n",
       "    }\n",
       "</style>\n",
       "<table border=\"1\" class=\"dataframe\">\n",
       "  <thead>\n",
       "    <tr style=\"text-align: right;\">\n",
       "      <th></th>\n",
       "      <th>OverallQual</th>\n",
       "      <th>YearBuilt</th>\n",
       "      <th>YearRemodAdd</th>\n",
       "      <th>MasVnrArea</th>\n",
       "      <th>TotalBsmtSF</th>\n",
       "      <th>1stFlrSF</th>\n",
       "      <th>GrLivArea</th>\n",
       "      <th>FullBath</th>\n",
       "      <th>TotRmsAbvGrd</th>\n",
       "      <th>Fireplaces</th>\n",
       "      <th>GarageYrBlt</th>\n",
       "      <th>GarageCars</th>\n",
       "      <th>GarageArea</th>\n",
       "      <th>SalePrice</th>\n",
       "    </tr>\n",
       "  </thead>\n",
       "  <tbody>\n",
       "    <tr>\n",
       "      <th>0</th>\n",
       "      <td>7</td>\n",
       "      <td>2003</td>\n",
       "      <td>2003</td>\n",
       "      <td>196.0</td>\n",
       "      <td>856</td>\n",
       "      <td>856</td>\n",
       "      <td>1710</td>\n",
       "      <td>2</td>\n",
       "      <td>8</td>\n",
       "      <td>0</td>\n",
       "      <td>2003.0</td>\n",
       "      <td>2</td>\n",
       "      <td>548</td>\n",
       "      <td>208500</td>\n",
       "    </tr>\n",
       "    <tr>\n",
       "      <th>1</th>\n",
       "      <td>6</td>\n",
       "      <td>1976</td>\n",
       "      <td>1976</td>\n",
       "      <td>0.0</td>\n",
       "      <td>1262</td>\n",
       "      <td>1262</td>\n",
       "      <td>1262</td>\n",
       "      <td>2</td>\n",
       "      <td>6</td>\n",
       "      <td>1</td>\n",
       "      <td>1976.0</td>\n",
       "      <td>2</td>\n",
       "      <td>460</td>\n",
       "      <td>181500</td>\n",
       "    </tr>\n",
       "    <tr>\n",
       "      <th>2</th>\n",
       "      <td>7</td>\n",
       "      <td>2001</td>\n",
       "      <td>2002</td>\n",
       "      <td>162.0</td>\n",
       "      <td>920</td>\n",
       "      <td>920</td>\n",
       "      <td>1786</td>\n",
       "      <td>2</td>\n",
       "      <td>6</td>\n",
       "      <td>1</td>\n",
       "      <td>2001.0</td>\n",
       "      <td>2</td>\n",
       "      <td>608</td>\n",
       "      <td>223500</td>\n",
       "    </tr>\n",
       "    <tr>\n",
       "      <th>3</th>\n",
       "      <td>7</td>\n",
       "      <td>1915</td>\n",
       "      <td>1970</td>\n",
       "      <td>0.0</td>\n",
       "      <td>756</td>\n",
       "      <td>961</td>\n",
       "      <td>1717</td>\n",
       "      <td>1</td>\n",
       "      <td>7</td>\n",
       "      <td>1</td>\n",
       "      <td>1998.0</td>\n",
       "      <td>3</td>\n",
       "      <td>642</td>\n",
       "      <td>140000</td>\n",
       "    </tr>\n",
       "    <tr>\n",
       "      <th>4</th>\n",
       "      <td>8</td>\n",
       "      <td>2000</td>\n",
       "      <td>2000</td>\n",
       "      <td>350.0</td>\n",
       "      <td>1145</td>\n",
       "      <td>1145</td>\n",
       "      <td>2198</td>\n",
       "      <td>2</td>\n",
       "      <td>9</td>\n",
       "      <td>1</td>\n",
       "      <td>2000.0</td>\n",
       "      <td>3</td>\n",
       "      <td>836</td>\n",
       "      <td>250000</td>\n",
       "    </tr>\n",
       "    <tr>\n",
       "      <th>5</th>\n",
       "      <td>5</td>\n",
       "      <td>1993</td>\n",
       "      <td>1995</td>\n",
       "      <td>0.0</td>\n",
       "      <td>796</td>\n",
       "      <td>796</td>\n",
       "      <td>1362</td>\n",
       "      <td>1</td>\n",
       "      <td>5</td>\n",
       "      <td>0</td>\n",
       "      <td>1993.0</td>\n",
       "      <td>2</td>\n",
       "      <td>480</td>\n",
       "      <td>143000</td>\n",
       "    </tr>\n",
       "    <tr>\n",
       "      <th>6</th>\n",
       "      <td>8</td>\n",
       "      <td>2004</td>\n",
       "      <td>2005</td>\n",
       "      <td>186.0</td>\n",
       "      <td>1686</td>\n",
       "      <td>1694</td>\n",
       "      <td>1694</td>\n",
       "      <td>2</td>\n",
       "      <td>7</td>\n",
       "      <td>1</td>\n",
       "      <td>2004.0</td>\n",
       "      <td>2</td>\n",
       "      <td>636</td>\n",
       "      <td>307000</td>\n",
       "    </tr>\n",
       "    <tr>\n",
       "      <th>7</th>\n",
       "      <td>7</td>\n",
       "      <td>1973</td>\n",
       "      <td>1973</td>\n",
       "      <td>240.0</td>\n",
       "      <td>1107</td>\n",
       "      <td>1107</td>\n",
       "      <td>2090</td>\n",
       "      <td>2</td>\n",
       "      <td>7</td>\n",
       "      <td>2</td>\n",
       "      <td>1973.0</td>\n",
       "      <td>2</td>\n",
       "      <td>484</td>\n",
       "      <td>200000</td>\n",
       "    </tr>\n",
       "    <tr>\n",
       "      <th>8</th>\n",
       "      <td>7</td>\n",
       "      <td>1931</td>\n",
       "      <td>1950</td>\n",
       "      <td>0.0</td>\n",
       "      <td>952</td>\n",
       "      <td>1022</td>\n",
       "      <td>1774</td>\n",
       "      <td>2</td>\n",
       "      <td>8</td>\n",
       "      <td>2</td>\n",
       "      <td>1931.0</td>\n",
       "      <td>2</td>\n",
       "      <td>468</td>\n",
       "      <td>129900</td>\n",
       "    </tr>\n",
       "    <tr>\n",
       "      <th>9</th>\n",
       "      <td>5</td>\n",
       "      <td>1939</td>\n",
       "      <td>1950</td>\n",
       "      <td>0.0</td>\n",
       "      <td>991</td>\n",
       "      <td>1077</td>\n",
       "      <td>1077</td>\n",
       "      <td>1</td>\n",
       "      <td>5</td>\n",
       "      <td>2</td>\n",
       "      <td>1939.0</td>\n",
       "      <td>1</td>\n",
       "      <td>205</td>\n",
       "      <td>118000</td>\n",
       "    </tr>\n",
       "  </tbody>\n",
       "</table>\n",
       "</div>"
      ],
      "text/plain": [
       "   OverallQual  YearBuilt  YearRemodAdd  MasVnrArea  TotalBsmtSF  1stFlrSF  \\\n",
       "0            7       2003          2003       196.0          856       856   \n",
       "1            6       1976          1976         0.0         1262      1262   \n",
       "2            7       2001          2002       162.0          920       920   \n",
       "3            7       1915          1970         0.0          756       961   \n",
       "4            8       2000          2000       350.0         1145      1145   \n",
       "5            5       1993          1995         0.0          796       796   \n",
       "6            8       2004          2005       186.0         1686      1694   \n",
       "7            7       1973          1973       240.0         1107      1107   \n",
       "8            7       1931          1950         0.0          952      1022   \n",
       "9            5       1939          1950         0.0          991      1077   \n",
       "\n",
       "   GrLivArea  FullBath  TotRmsAbvGrd  Fireplaces  GarageYrBlt  GarageCars  \\\n",
       "0       1710         2             8           0       2003.0           2   \n",
       "1       1262         2             6           1       1976.0           2   \n",
       "2       1786         2             6           1       2001.0           2   \n",
       "3       1717         1             7           1       1998.0           3   \n",
       "4       2198         2             9           1       2000.0           3   \n",
       "5       1362         1             5           0       1993.0           2   \n",
       "6       1694         2             7           1       2004.0           2   \n",
       "7       2090         2             7           2       1973.0           2   \n",
       "8       1774         2             8           2       1931.0           2   \n",
       "9       1077         1             5           2       1939.0           1   \n",
       "\n",
       "   GarageArea  SalePrice  \n",
       "0         548     208500  \n",
       "1         460     181500  \n",
       "2         608     223500  \n",
       "3         642     140000  \n",
       "4         836     250000  \n",
       "5         480     143000  \n",
       "6         636     307000  \n",
       "7         484     200000  \n",
       "8         468     129900  \n",
       "9         205     118000  "
      ]
     },
     "execution_count": 38,
     "metadata": {},
     "output_type": "execute_result"
    }
   ],
   "source": [
    "column.head(10)"
   ]
  },
  {
   "cell_type": "code",
   "execution_count": 39,
   "id": "3d7e7080",
   "metadata": {},
   "outputs": [],
   "source": [
    "#column.hist(bins=50,figsize=(20,10))"
   ]
  },
  {
   "cell_type": "code",
   "execution_count": 40,
   "id": "87f7019c",
   "metadata": {},
   "outputs": [],
   "source": [
    "#sns.pairplot(column)"
   ]
  },
  {
   "cell_type": "markdown",
   "id": "14cebfdb",
   "metadata": {},
   "source": [
    "Now we are going to ctate a model"
   ]
  },
  {
   "cell_type": "code",
   "execution_count": 41,
   "id": "004cc163",
   "metadata": {},
   "outputs": [],
   "source": [
    "x = column[['OverallQual','YearBuilt','YearRemodAdd','MasVnrArea','TotalBsmtSF','1stFlrSF','GrLivArea','FullBath','TotRmsAbvGrd','Fireplaces','GarageYrBlt','GarageCars','GarageArea']]\n",
    "y = column['SalePrice']"
   ]
  },
  {
   "cell_type": "code",
   "execution_count": 42,
   "id": "8f2f9867",
   "metadata": {},
   "outputs": [],
   "source": [
    "x_train,x_test,y_train,y_test = train_test_split(x,y,test_size=0.4,random_state=101)"
   ]
  },
  {
   "cell_type": "code",
   "execution_count": 43,
   "id": "8cf0948b",
   "metadata": {},
   "outputs": [],
   "source": [
    "model = RandomForestRegressor()"
   ]
  },
  {
   "cell_type": "code",
   "execution_count": 44,
   "id": "23540e67",
   "metadata": {},
   "outputs": [],
   "source": [
    "model = model.fit(x_train,y_train)"
   ]
  },
  {
   "cell_type": "code",
   "execution_count": 45,
   "id": "df9b216a",
   "metadata": {},
   "outputs": [],
   "source": [
    "pred = model.predict(x_test)"
   ]
  },
  {
   "cell_type": "code",
   "execution_count": 46,
   "id": "7573c2ff",
   "metadata": {
    "collapsed": true
   },
   "outputs": [
    {
     "name": "stdout",
     "output_type": "stream",
     "text": [
      "[252517.26       132078.13       143265.         387605.42\n",
      " 416720.4        115322.         142390.18       151595.75\n",
      " 152347.5        145825.37       116754.         145918.5\n",
      " 129472.         183171.         151777.         160371.5\n",
      " 141753.51       124099.83       148069.8        259711.5\n",
      " 136057.25        84363.76       192395.55       155831.03\n",
      " 207283.         143656.         111179.27       166494.5\n",
      " 170379.4        125110.71       199776.75       155678.\n",
      " 173976.75       253526.93        66189.          97361.5\n",
      " 439746.62       213153.25       106054.35        99030.5\n",
      " 247445.79       182884.24       212432.1        172463.02\n",
      " 148362.99       128442.84       300610.89       192347.7625\n",
      " 129711.58       108679.21       148642.76       232613.8\n",
      " 110592.97       162970.1        191007.         126276.85\n",
      " 169924.79       236162.         176081.         251592.04\n",
      " 211500.48       153473.15       110797.         105562.49\n",
      " 114377.         185058.3        119341.5        202664.8\n",
      " 169750.51       206477.3        170609.82       124410.\n",
      " 180086.05       173865.12       107604.65       108785.24\n",
      " 197691.59       303665.89       273692.37       147612.14\n",
      " 359433.73       134729.         119969.46       186047.8\n",
      " 169765.9        295419.58       177855.39       134209.69\n",
      " 164555.92       250426.15       166353.5        172158.9\n",
      " 144017.86       109109.         150861.93       186537.\n",
      " 134807.5        134807.18       173738.4        208952.65\n",
      " 145739.09       302463.99       126588.5        263907.86\n",
      " 209857.78       196074.14       166807.         180642.5\n",
      " 206918.45       150227.64       324245.95       199359.35\n",
      " 230423.16       166412.5        150161.5        190360.49\n",
      " 139342.         383188.2        158866.43       163559.5\n",
      " 135441.33       260551.5        150439.36       217432.86\n",
      " 136755.         230411.         245746.83       143184.\n",
      "  93595.         148321.82       134752.         324469.47\n",
      " 142244.55       198110.5        145661.18       241016.39\n",
      " 101508.08       104211.         259477.93       191063.79\n",
      " 140438.08       162217.4         83733.         124783.08\n",
      " 162378.         124472.25       191938.89        98547.5\n",
      " 147165.39       129567.28       108058.76       239248.\n",
      " 187675.165      120339.74       254883.21       176524.9\n",
      " 251644.9        265944.63       122842.42       168732.42\n",
      " 329136.59       154041.5        135603.75       424326.5\n",
      " 127941.41       351906.57       117019.82       209976.75\n",
      " 192178.585       93184.16       135209.63        77352.\n",
      " 128609.01       227929.58       177099.9        177323.05\n",
      " 188959.05       336025.84       189611.55       234639.9125\n",
      " 186137.2775      80639.         196928.5        301639.79\n",
      " 187957.65       123850.75       182270.5        250553.05\n",
      " 151560.37       147801.95       213859.9        323439.37\n",
      " 136803.76       140165.85       251542.35       166105.9\n",
      " 235117.          91571.76       457865.93       123855.84\n",
      "  84523.36       165212.32       156267.         131699.\n",
      " 370029.07        95295.5        195957.15       272870.23\n",
      " 107797.77       100513.76       109791.         149955.\n",
      " 191433.3        112317.5        180000.82       144808.\n",
      " 246152.81       142390.17       163095.24       125211.7\n",
      " 132019.36        93751.52       108578.21       168446.38\n",
      " 114536.33       124381.37       141938.         162193.64\n",
      " 170323.56       329784.28       142933.87       356712.03\n",
      " 112088.9        146947.5        227704.36       119902.5\n",
      " 336257.64       122419.5        154060.65       186535.92\n",
      " 150372.         194311.53       132699.82        93981.\n",
      " 359641.66       143501.77       186634.6525     112888.44\n",
      " 161944.72       191495.74       156374.62       131033.\n",
      " 266317.13       145870.5        131324.5        146719.5\n",
      " 183111.56       130932.5        153701.51       329941.98\n",
      " 238520.72       130329.26        96142.42       131612.11\n",
      " 118630.21       124043.49       270148.75       230978.86\n",
      " 168383.5        123930.         111717.82       158561.33\n",
      " 291896.75       146136.71       138607.75       133944.22\n",
      " 163534.         218227.86       168490.2        170949.1\n",
      " 166043.7        452920.04       274611.05       143841.83\n",
      " 144691.65       127630.83       131819.58       145236.61\n",
      " 175717.83       317253.65       254821.46       171633.5\n",
      " 222331.74       233405.37       127610.08       127844.15\n",
      " 117955.68       357179.47       179285.86       154441.4\n",
      " 119264.98       163616.5        186026.7825     119572.5\n",
      " 117257.59       120736.87       277235.08       186004.8\n",
      " 134048.55       141735.16        96279.21       133631.5\n",
      " 243623.         197380.         193414.72       146917.68\n",
      "  99572.38       145434.84        93032.58        84700.\n",
      " 154314.41        99634.28       144060.         169837.45\n",
      " 160810.         261085.11       139696.9        134673.82\n",
      " 100293.83       211301.54       100996.42       385681.92\n",
      " 228842.74857143 196209.8        170408.9        150370.76\n",
      " 127606.84       116175.46       116865.99        90354.5\n",
      " 220143.         182634.         212886.24       117658.\n",
      " 115914.         145064.46       141257.11       188101.91\n",
      " 119756.         283369.11       227101.73       164245.08\n",
      " 152841.7        140229.         191139.6625     191338.02\n",
      " 186579.9        142570.82       138319.08       140336.55\n",
      " 160425.         191095.79       222901.2        135828.56\n",
      " 173989.22       146008.         134156.49        76552.\n",
      "  99668.52       123899.29       134976.05        87121.21\n",
      " 145083.59       190659.7        182595.95       172192.7\n",
      " 141940.25       121018.         199160.         159232.79\n",
      " 273719.96       147796.5        121736.65        95235.65\n",
      " 154441.4        345193.49       370120.35       343253.43\n",
      " 233330.62       144685.74       370929.67       110629.84\n",
      " 190674.         309705.64       141938.         161458.\n",
      " 138724.63       211579.41       549202.02       187151.56\n",
      " 186092.72        96809.98        99686.44       257279.92\n",
      " 169635.         283631.59       150796.5        270819.41\n",
      " 313546.65       158961.7        127199.36       196723.66\n",
      " 149827.55       177231.58       165115.         164087.05\n",
      " 165354.12       250149.08       161928.77       141474.\n",
      " 133010.76       180658.2        157205.35       300527.77\n",
      " 107505.5        251067.04        96905.         124644.08\n",
      " 137131.69       149616.         176982.5        240651.55\n",
      " 209929.74       213428.5        158576.35       200367.6\n",
      " 121520.61       145778.33       319626.33       102281.51\n",
      " 240395.45       252427.62       179736.05       259435.74\n",
      " 349593.94       127517.62       169194.24       131237.\n",
      " 194649.65       105278.         194848.2        126029.5\n",
      "  89023.         205827.8        219071.56       143428.57\n",
      " 128669.51       191709.74       168186.63       165858.74\n",
      " 279070.85       142408.          81241.          92805.5\n",
      " 167728.1        115120.68       264075.13       125334.1\n",
      " 150032.87       191699.42       171630.68       227393.54\n",
      " 161834.72       119451.49       262303.39       306561.07\n",
      " 144733.5        277032.83       226112.22       154291.98\n",
      " 134019.6        132917.         134212.         101662.\n",
      " 234394.1        245818.22       144704.37       162342.8\n",
      " 256393.82       258195.93       140034.5         97904.62\n",
      " 154875.89       192872.9975     172301.         344993.03\n",
      " 224054.59       236849.         228353.93       187033.66\n",
      " 126604.27       170347.2        169340.12       171992.55\n",
      " 137942.25       149217.5        241476.24       108793.49\n",
      " 111886.3        108852.16       190033.1        153775.85\n",
      "  90226.92       463920.4        105300.         142553.71\n",
      " 178411.77       109241.18       149330.52       164338.92\n",
      " 149564.8925     171104.19       186553.7        175755.55\n",
      " 172669.05       180437.02       431112.79       131804.71\n",
      " 211337.5        125830.09       197688.75       245987.72\n",
      "  74802.76       151667.         202323.         149605.92\n",
      " 171022.4        289466.61       129953.34       199548.07\n",
      " 246498.96       120926.25       314194.63       134205.5\n",
      " 124124.5        349336.39       147467.98       168732.3\n",
      " 117324.5         99776.17       149713.37       209093.7\n",
      " 402299.39       172194.3        169468.61       164742.65\n",
      " 156374.62       205596.75       119282.         111519.8\n",
      " 375314.75       188087.67       109747.52       190342.2\n",
      " 314185.47       130477.5        243775.32       130384.96\n",
      " 139267.         150148.         282498.07        94636.\n",
      " 179469.34       134653.29       200096.15       188722.24\n",
      " 166969.         198072.24       193342.665      194564.175\n",
      " 217063.         203968.9        142710.37       476498.89      ]\n"
     ]
    }
   ],
   "source": [
    "print(pred)"
   ]
  },
  {
   "cell_type": "code",
   "execution_count": 47,
   "id": "f30a9301",
   "metadata": {
    "collapsed": true
   },
   "outputs": [
    {
     "name": "stdout",
     "output_type": "stream",
     "text": [
      "Accuracy of the model is  -  83.77\n"
     ]
    }
   ],
   "source": [
    "print(\"Accuracy of the model is  - \",round(r2_score(y_test,pred)*100,2))"
   ]
  },
  {
   "cell_type": "code",
   "execution_count": 48,
   "id": "44b6200c",
   "metadata": {
    "collapsed": true
   },
   "outputs": [
    {
     "data": {
      "text/plain": [
       "1027647705.1926503"
      ]
     },
     "execution_count": 48,
     "metadata": {},
     "output_type": "execute_result"
    }
   ],
   "source": [
    "mean_squared_error(y_test,pred)"
   ]
  },
  {
   "cell_type": "code",
   "execution_count": null,
   "id": "1e058df4",
   "metadata": {},
   "outputs": [],
   "source": []
  }
 ],
 "metadata": {
  "kernelspec": {
   "display_name": "Python 3 (ipykernel)",
   "language": "python",
   "name": "python3"
  },
  "language_info": {
   "codemirror_mode": {
    "name": "ipython",
    "version": 3
   },
   "file_extension": ".py",
   "mimetype": "text/x-python",
   "name": "python",
   "nbconvert_exporter": "python",
   "pygments_lexer": "ipython3",
   "version": "3.10.9"
  }
 },
 "nbformat": 4,
 "nbformat_minor": 5
}
